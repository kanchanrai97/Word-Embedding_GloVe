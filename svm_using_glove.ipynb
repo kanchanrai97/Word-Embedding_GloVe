{
  "metadata": {
    "kernelspec": {
      "language": "python",
      "display_name": "Python 3",
      "name": "python3"
    },
    "language_info": {
      "name": "python",
      "version": "3.10.13",
      "mimetype": "text/x-python",
      "codemirror_mode": {
        "name": "ipython",
        "version": 3
      },
      "pygments_lexer": "ipython3",
      "nbconvert_exporter": "python",
      "file_extension": ".py"
    },
    "kaggle": {
      "accelerator": "none",
      "dataSources": [
        {
          "sourceId": 8031363,
          "sourceType": "datasetVersion",
          "datasetId": 4733897
        },
        {
          "sourceId": 8032307,
          "sourceType": "datasetVersion",
          "datasetId": 4734588
        }
      ],
      "dockerImageVersionId": 30673,
      "isInternetEnabled": true,
      "language": "python",
      "sourceType": "notebook",
      "isGpuEnabled": false
    },
    "colab": {
      "provenance": []
    }
  },
  "nbformat_minor": 0,
  "nbformat": 4,
  "cells": [
    {
      "cell_type": "code",
      "source": [
        "pip install nltk"
      ],
      "metadata": {
        "execution": {
          "iopub.status.busy": "2024-04-04T22:36:19.956292Z",
          "iopub.execute_input": "2024-04-04T22:36:19.956783Z",
          "iopub.status.idle": "2024-04-04T22:36:34.643657Z",
          "shell.execute_reply.started": "2024-04-04T22:36:19.956748Z",
          "shell.execute_reply": "2024-04-04T22:36:34.641839Z"
        },
        "trusted": true,
        "id": "6zJ7UdByyKmp"
      },
      "execution_count": null,
      "outputs": []
    },
    {
      "cell_type": "code",
      "source": [
        "pip install contractions"
      ],
      "metadata": {
        "execution": {
          "iopub.status.busy": "2024-04-04T22:36:38.237349Z",
          "iopub.execute_input": "2024-04-04T22:36:38.237876Z",
          "iopub.status.idle": "2024-04-04T22:36:53.117239Z",
          "shell.execute_reply.started": "2024-04-04T22:36:38.237836Z",
          "shell.execute_reply": "2024-04-04T22:36:53.115523Z"
        },
        "trusted": true,
        "id": "18Dccl2yyKmq"
      },
      "execution_count": null,
      "outputs": []
    },
    {
      "cell_type": "code",
      "source": [
        "!pip install spacy"
      ],
      "metadata": {
        "id": "i70qT71Dyr0H"
      },
      "execution_count": null,
      "outputs": []
    },
    {
      "cell_type": "code",
      "source": [
        "import pandas as pd\n",
        "import numpy as np\n",
        "import seaborn as sns\n",
        "import matplotlib.pyplot as plt\n",
        "import nltk\n",
        "nltk.download('punkt')\n",
        "nltk.download('stopwords')\n",
        "nltk.download('wordnet')\n",
        "from nltk.corpus import wordnet\n",
        "import spacy\n",
        "nlp = spacy.load('en_core_web_sm')\n",
        "from nltk.tokenize import word_tokenize\n",
        "from nltk.corpus import stopwords\n",
        "from nltk.stem import WordNetLemmatizer\n",
        "import string\n",
        "import re\n",
        "import spacy\n",
        "import contractions\n",
        "from sklearn.preprocessing import LabelEncoder\n",
        "from sklearn.model_selection import train_test_split\n",
        "from sklearn.preprocessing import StandardScaler\n",
        "from sklearn.svm import SVC\n",
        "from sklearn.metrics import accuracy_score\n",
        "from gensim.models import KeyedVectors"
      ],
      "metadata": {
        "execution": {
          "iopub.status.busy": "2024-04-04T22:59:35.893915Z",
          "iopub.execute_input": "2024-04-04T22:59:35.894952Z",
          "iopub.status.idle": "2024-04-04T22:59:38.119194Z",
          "shell.execute_reply.started": "2024-04-04T22:59:35.894905Z",
          "shell.execute_reply": "2024-04-04T22:59:38.117885Z"
        },
        "trusted": true,
        "id": "eQsLOTMSyKmq"
      },
      "execution_count": null,
      "outputs": []
    },
    {
      "cell_type": "markdown",
      "source": [
        "## LOADING AND PREPROCESSING"
      ],
      "metadata": {
        "id": "n2BNBqE_yKmq"
      }
    },
    {
      "cell_type": "code",
      "source": [
        "df=pd.read_excel('/content/topics.xlsx')"
      ],
      "metadata": {
        "execution": {
          "iopub.status.busy": "2024-04-04T22:37:01.103195Z",
          "iopub.execute_input": "2024-04-04T22:37:01.103662Z",
          "iopub.status.idle": "2024-04-04T22:37:09.687706Z",
          "shell.execute_reply.started": "2024-04-04T22:37:01.103627Z",
          "shell.execute_reply": "2024-04-04T22:37:09.686545Z"
        },
        "trusted": true,
        "id": "f0f96bmGyKmr"
      },
      "execution_count": null,
      "outputs": []
    },
    {
      "cell_type": "code",
      "source": [
        "df.info()"
      ],
      "metadata": {
        "execution": {
          "iopub.status.busy": "2024-04-04T22:37:12.988183Z",
          "iopub.execute_input": "2024-04-04T22:37:12.988624Z",
          "iopub.status.idle": "2024-04-04T22:37:13.029489Z",
          "shell.execute_reply.started": "2024-04-04T22:37:12.988576Z",
          "shell.execute_reply": "2024-04-04T22:37:13.027685Z"
        },
        "trusted": true,
        "colab": {
          "base_uri": "https://localhost:8080/"
        },
        "id": "ZCsODMqmyKmr",
        "outputId": "e019f15a-19e3-4cec-c9cc-06dde39ea5c5"
      },
      "execution_count": null,
      "outputs": [
        {
          "output_type": "stream",
          "name": "stdout",
          "text": [
            "<class 'pandas.core.frame.DataFrame'>\n",
            "RangeIndex: 10001 entries, 0 to 10000\n",
            "Data columns (total 30 columns):\n",
            " #   Column              Non-Null Count  Dtype         \n",
            "---  ------              --------------  -----         \n",
            " 0   title               10000 non-null  object        \n",
            " 1   content             10000 non-null  object        \n",
            " 2   content_word_count  10000 non-null  float64       \n",
            " 3   published_date      10000 non-null  object        \n",
            " 4   created_at          10000 non-null  datetime64[ns]\n",
            " 5   updated_at          10000 non-null  datetime64[ns]\n",
            " 6   language            10000 non-null  object        \n",
            " 7   article_links       7104 non-null   object        \n",
            " 8   total_share_count   9999 non-null   float64       \n",
            " 9   keywords_status     9979 non-null   float64       \n",
            " 10  keywords            9979 non-null   object        \n",
            " 11  entities            9979 non-null   object        \n",
            " 12  sentiment           9984 non-null   float64       \n",
            " 13  title_sentiment     5107 non-null   float64       \n",
            " 14  keywords_ex         9984 non-null   object        \n",
            " 15  infographic         9998 non-null   float64       \n",
            " 16  case_study          9998 non-null   float64       \n",
            " 17  review              9998 non-null   float64       \n",
            " 18  video               9998 non-null   float64       \n",
            " 19  podcast             9998 non-null   float64       \n",
            " 20  webinar             9998 non-null   float64       \n",
            " 21  interview           9998 non-null   float64       \n",
            " 22  quote               9998 non-null   float64       \n",
            " 23  meme                9998 non-null   float64       \n",
            " 24  give_away           9998 non-null   float64       \n",
            " 25  quiz                9998 non-null   float64       \n",
            " 26  cities_and_states   3339 non-null   object        \n",
            " 27  countries           3339 non-null   object        \n",
            " 28  geo_locations       3339 non-null   object        \n",
            " 29  topic               10001 non-null  object        \n",
            "dtypes: datetime64[ns](2), float64(16), object(12)\n",
            "memory usage: 2.3+ MB\n"
          ]
        }
      ]
    },
    {
      "cell_type": "code",
      "source": [
        "unique_topics= df['topic'].unique()\n",
        "unique_topics"
      ],
      "metadata": {
        "execution": {
          "iopub.status.busy": "2024-04-04T22:37:18.087740Z",
          "iopub.execute_input": "2024-04-04T22:37:18.088165Z",
          "iopub.status.idle": "2024-04-04T22:37:18.096290Z",
          "shell.execute_reply.started": "2024-04-04T22:37:18.088126Z",
          "shell.execute_reply": "2024-04-04T22:37:18.095132Z"
        },
        "trusted": true,
        "colab": {
          "base_uri": "https://localhost:8080/"
        },
        "id": "6dL1h2yKyKmr",
        "outputId": "89858656-e32f-4aae-af02-caf8b03050b5"
      },
      "execution_count": null,
      "outputs": [
        {
          "output_type": "execute_result",
          "data": {
            "text/plain": [
              "array(['business', 'sports', 'technology', 'health', 'unknown',\n",
              "       'politics', 'travel', 'entertainment', 'fashion'], dtype=object)"
            ]
          },
          "metadata": {},
          "execution_count": 16
        }
      ]
    },
    {
      "cell_type": "markdown",
      "source": [
        "### Keeping Important features only"
      ],
      "metadata": {
        "id": "0pflDaXJyKms"
      }
    },
    {
      "cell_type": "code",
      "source": [
        "columns_to_keep = ['title', 'topic']\n",
        "df = df[columns_to_keep]"
      ],
      "metadata": {
        "execution": {
          "iopub.status.busy": "2024-04-04T22:37:21.969196Z",
          "iopub.execute_input": "2024-04-04T22:37:21.970406Z",
          "iopub.status.idle": "2024-04-04T22:37:21.979947Z",
          "shell.execute_reply.started": "2024-04-04T22:37:21.970355Z",
          "shell.execute_reply": "2024-04-04T22:37:21.978537Z"
        },
        "trusted": true,
        "id": "RAiqxzoQyKms"
      },
      "execution_count": null,
      "outputs": []
    },
    {
      "cell_type": "markdown",
      "source": [
        "### New Dataframe"
      ],
      "metadata": {
        "id": "wNqtbPSAyKms"
      }
    },
    {
      "cell_type": "code",
      "source": [
        "df.head()"
      ],
      "metadata": {
        "execution": {
          "iopub.status.busy": "2024-04-04T22:37:26.303584Z",
          "iopub.execute_input": "2024-04-04T22:37:26.304070Z",
          "iopub.status.idle": "2024-04-04T22:37:26.317576Z",
          "shell.execute_reply.started": "2024-04-04T22:37:26.304036Z",
          "shell.execute_reply": "2024-04-04T22:37:26.316204Z"
        },
        "trusted": true,
        "colab": {
          "base_uri": "https://localhost:8080/",
          "height": 206
        },
        "id": "0kxhGoz5yKms",
        "outputId": "b80b0944-527b-4041-a889-b6d1ec7d872b"
      },
      "execution_count": null,
      "outputs": [
        {
          "output_type": "execute_result",
          "data": {
            "text/plain": [
              "                                               title       topic\n",
              "0  Mitsubishi Motors Co. (OTCMKTS:MMTOF) Short In...    business\n",
              "1  Juventus off the hook! Bianconeri set to have ...      sports\n",
              "2  Dodgers ponder shortstop for Betts after pater...      sports\n",
              "3  Meta lays off tech teams, battering employee m...  technology\n",
              "4  FDA clears extra COVID booster for some high-r...      health"
            ],
            "text/html": [
              "\n",
              "  <div id=\"df-a328a8fe-ed2e-429b-ab3a-3a7b5a7a4330\" class=\"colab-df-container\">\n",
              "    <div>\n",
              "<style scoped>\n",
              "    .dataframe tbody tr th:only-of-type {\n",
              "        vertical-align: middle;\n",
              "    }\n",
              "\n",
              "    .dataframe tbody tr th {\n",
              "        vertical-align: top;\n",
              "    }\n",
              "\n",
              "    .dataframe thead th {\n",
              "        text-align: right;\n",
              "    }\n",
              "</style>\n",
              "<table border=\"1\" class=\"dataframe\">\n",
              "  <thead>\n",
              "    <tr style=\"text-align: right;\">\n",
              "      <th></th>\n",
              "      <th>title</th>\n",
              "      <th>topic</th>\n",
              "    </tr>\n",
              "  </thead>\n",
              "  <tbody>\n",
              "    <tr>\n",
              "      <th>0</th>\n",
              "      <td>Mitsubishi Motors Co. (OTCMKTS:MMTOF) Short In...</td>\n",
              "      <td>business</td>\n",
              "    </tr>\n",
              "    <tr>\n",
              "      <th>1</th>\n",
              "      <td>Juventus off the hook! Bianconeri set to have ...</td>\n",
              "      <td>sports</td>\n",
              "    </tr>\n",
              "    <tr>\n",
              "      <th>2</th>\n",
              "      <td>Dodgers ponder shortstop for Betts after pater...</td>\n",
              "      <td>sports</td>\n",
              "    </tr>\n",
              "    <tr>\n",
              "      <th>3</th>\n",
              "      <td>Meta lays off tech teams, battering employee m...</td>\n",
              "      <td>technology</td>\n",
              "    </tr>\n",
              "    <tr>\n",
              "      <th>4</th>\n",
              "      <td>FDA clears extra COVID booster for some high-r...</td>\n",
              "      <td>health</td>\n",
              "    </tr>\n",
              "  </tbody>\n",
              "</table>\n",
              "</div>\n",
              "    <div class=\"colab-df-buttons\">\n",
              "\n",
              "  <div class=\"colab-df-container\">\n",
              "    <button class=\"colab-df-convert\" onclick=\"convertToInteractive('df-a328a8fe-ed2e-429b-ab3a-3a7b5a7a4330')\"\n",
              "            title=\"Convert this dataframe to an interactive table.\"\n",
              "            style=\"display:none;\">\n",
              "\n",
              "  <svg xmlns=\"http://www.w3.org/2000/svg\" height=\"24px\" viewBox=\"0 -960 960 960\">\n",
              "    <path d=\"M120-120v-720h720v720H120Zm60-500h600v-160H180v160Zm220 220h160v-160H400v160Zm0 220h160v-160H400v160ZM180-400h160v-160H180v160Zm440 0h160v-160H620v160ZM180-180h160v-160H180v160Zm440 0h160v-160H620v160Z\"/>\n",
              "  </svg>\n",
              "    </button>\n",
              "\n",
              "  <style>\n",
              "    .colab-df-container {\n",
              "      display:flex;\n",
              "      gap: 12px;\n",
              "    }\n",
              "\n",
              "    .colab-df-convert {\n",
              "      background-color: #E8F0FE;\n",
              "      border: none;\n",
              "      border-radius: 50%;\n",
              "      cursor: pointer;\n",
              "      display: none;\n",
              "      fill: #1967D2;\n",
              "      height: 32px;\n",
              "      padding: 0 0 0 0;\n",
              "      width: 32px;\n",
              "    }\n",
              "\n",
              "    .colab-df-convert:hover {\n",
              "      background-color: #E2EBFA;\n",
              "      box-shadow: 0px 1px 2px rgba(60, 64, 67, 0.3), 0px 1px 3px 1px rgba(60, 64, 67, 0.15);\n",
              "      fill: #174EA6;\n",
              "    }\n",
              "\n",
              "    .colab-df-buttons div {\n",
              "      margin-bottom: 4px;\n",
              "    }\n",
              "\n",
              "    [theme=dark] .colab-df-convert {\n",
              "      background-color: #3B4455;\n",
              "      fill: #D2E3FC;\n",
              "    }\n",
              "\n",
              "    [theme=dark] .colab-df-convert:hover {\n",
              "      background-color: #434B5C;\n",
              "      box-shadow: 0px 1px 3px 1px rgba(0, 0, 0, 0.15);\n",
              "      filter: drop-shadow(0px 1px 2px rgba(0, 0, 0, 0.3));\n",
              "      fill: #FFFFFF;\n",
              "    }\n",
              "  </style>\n",
              "\n",
              "    <script>\n",
              "      const buttonEl =\n",
              "        document.querySelector('#df-a328a8fe-ed2e-429b-ab3a-3a7b5a7a4330 button.colab-df-convert');\n",
              "      buttonEl.style.display =\n",
              "        google.colab.kernel.accessAllowed ? 'block' : 'none';\n",
              "\n",
              "      async function convertToInteractive(key) {\n",
              "        const element = document.querySelector('#df-a328a8fe-ed2e-429b-ab3a-3a7b5a7a4330');\n",
              "        const dataTable =\n",
              "          await google.colab.kernel.invokeFunction('convertToInteractive',\n",
              "                                                    [key], {});\n",
              "        if (!dataTable) return;\n",
              "\n",
              "        const docLinkHtml = 'Like what you see? Visit the ' +\n",
              "          '<a target=\"_blank\" href=https://colab.research.google.com/notebooks/data_table.ipynb>data table notebook</a>'\n",
              "          + ' to learn more about interactive tables.';\n",
              "        element.innerHTML = '';\n",
              "        dataTable['output_type'] = 'display_data';\n",
              "        await google.colab.output.renderOutput(dataTable, element);\n",
              "        const docLink = document.createElement('div');\n",
              "        docLink.innerHTML = docLinkHtml;\n",
              "        element.appendChild(docLink);\n",
              "      }\n",
              "    </script>\n",
              "  </div>\n",
              "\n",
              "\n",
              "<div id=\"df-4aeaa065-fd76-43df-92ed-0574b8042c16\">\n",
              "  <button class=\"colab-df-quickchart\" onclick=\"quickchart('df-4aeaa065-fd76-43df-92ed-0574b8042c16')\"\n",
              "            title=\"Suggest charts\"\n",
              "            style=\"display:none;\">\n",
              "\n",
              "<svg xmlns=\"http://www.w3.org/2000/svg\" height=\"24px\"viewBox=\"0 0 24 24\"\n",
              "     width=\"24px\">\n",
              "    <g>\n",
              "        <path d=\"M19 3H5c-1.1 0-2 .9-2 2v14c0 1.1.9 2 2 2h14c1.1 0 2-.9 2-2V5c0-1.1-.9-2-2-2zM9 17H7v-7h2v7zm4 0h-2V7h2v10zm4 0h-2v-4h2v4z\"/>\n",
              "    </g>\n",
              "</svg>\n",
              "  </button>\n",
              "\n",
              "<style>\n",
              "  .colab-df-quickchart {\n",
              "      --bg-color: #E8F0FE;\n",
              "      --fill-color: #1967D2;\n",
              "      --hover-bg-color: #E2EBFA;\n",
              "      --hover-fill-color: #174EA6;\n",
              "      --disabled-fill-color: #AAA;\n",
              "      --disabled-bg-color: #DDD;\n",
              "  }\n",
              "\n",
              "  [theme=dark] .colab-df-quickchart {\n",
              "      --bg-color: #3B4455;\n",
              "      --fill-color: #D2E3FC;\n",
              "      --hover-bg-color: #434B5C;\n",
              "      --hover-fill-color: #FFFFFF;\n",
              "      --disabled-bg-color: #3B4455;\n",
              "      --disabled-fill-color: #666;\n",
              "  }\n",
              "\n",
              "  .colab-df-quickchart {\n",
              "    background-color: var(--bg-color);\n",
              "    border: none;\n",
              "    border-radius: 50%;\n",
              "    cursor: pointer;\n",
              "    display: none;\n",
              "    fill: var(--fill-color);\n",
              "    height: 32px;\n",
              "    padding: 0;\n",
              "    width: 32px;\n",
              "  }\n",
              "\n",
              "  .colab-df-quickchart:hover {\n",
              "    background-color: var(--hover-bg-color);\n",
              "    box-shadow: 0 1px 2px rgba(60, 64, 67, 0.3), 0 1px 3px 1px rgba(60, 64, 67, 0.15);\n",
              "    fill: var(--button-hover-fill-color);\n",
              "  }\n",
              "\n",
              "  .colab-df-quickchart-complete:disabled,\n",
              "  .colab-df-quickchart-complete:disabled:hover {\n",
              "    background-color: var(--disabled-bg-color);\n",
              "    fill: var(--disabled-fill-color);\n",
              "    box-shadow: none;\n",
              "  }\n",
              "\n",
              "  .colab-df-spinner {\n",
              "    border: 2px solid var(--fill-color);\n",
              "    border-color: transparent;\n",
              "    border-bottom-color: var(--fill-color);\n",
              "    animation:\n",
              "      spin 1s steps(1) infinite;\n",
              "  }\n",
              "\n",
              "  @keyframes spin {\n",
              "    0% {\n",
              "      border-color: transparent;\n",
              "      border-bottom-color: var(--fill-color);\n",
              "      border-left-color: var(--fill-color);\n",
              "    }\n",
              "    20% {\n",
              "      border-color: transparent;\n",
              "      border-left-color: var(--fill-color);\n",
              "      border-top-color: var(--fill-color);\n",
              "    }\n",
              "    30% {\n",
              "      border-color: transparent;\n",
              "      border-left-color: var(--fill-color);\n",
              "      border-top-color: var(--fill-color);\n",
              "      border-right-color: var(--fill-color);\n",
              "    }\n",
              "    40% {\n",
              "      border-color: transparent;\n",
              "      border-right-color: var(--fill-color);\n",
              "      border-top-color: var(--fill-color);\n",
              "    }\n",
              "    60% {\n",
              "      border-color: transparent;\n",
              "      border-right-color: var(--fill-color);\n",
              "    }\n",
              "    80% {\n",
              "      border-color: transparent;\n",
              "      border-right-color: var(--fill-color);\n",
              "      border-bottom-color: var(--fill-color);\n",
              "    }\n",
              "    90% {\n",
              "      border-color: transparent;\n",
              "      border-bottom-color: var(--fill-color);\n",
              "    }\n",
              "  }\n",
              "</style>\n",
              "\n",
              "  <script>\n",
              "    async function quickchart(key) {\n",
              "      const quickchartButtonEl =\n",
              "        document.querySelector('#' + key + ' button');\n",
              "      quickchartButtonEl.disabled = true;  // To prevent multiple clicks.\n",
              "      quickchartButtonEl.classList.add('colab-df-spinner');\n",
              "      try {\n",
              "        const charts = await google.colab.kernel.invokeFunction(\n",
              "            'suggestCharts', [key], {});\n",
              "      } catch (error) {\n",
              "        console.error('Error during call to suggestCharts:', error);\n",
              "      }\n",
              "      quickchartButtonEl.classList.remove('colab-df-spinner');\n",
              "      quickchartButtonEl.classList.add('colab-df-quickchart-complete');\n",
              "    }\n",
              "    (() => {\n",
              "      let quickchartButtonEl =\n",
              "        document.querySelector('#df-4aeaa065-fd76-43df-92ed-0574b8042c16 button');\n",
              "      quickchartButtonEl.style.display =\n",
              "        google.colab.kernel.accessAllowed ? 'block' : 'none';\n",
              "    })();\n",
              "  </script>\n",
              "</div>\n",
              "\n",
              "    </div>\n",
              "  </div>\n"
            ],
            "application/vnd.google.colaboratory.intrinsic+json": {
              "type": "dataframe",
              "variable_name": "df",
              "summary": "{\n  \"name\": \"df\",\n  \"rows\": 10001,\n  \"fields\": [\n    {\n      \"column\": \"title\",\n      \"properties\": {\n        \"dtype\": \"string\",\n        \"num_unique_values\": 9923,\n        \"samples\": [\n          \"\\u00e0\\u00b0\\u2020 \\u00e0\\u00b0\\u00a6\\u00e0\\u00b1\\u0081\\u00e0\\u00b0\\u00b0\\u00e0\\u00b1\\u008d\\u00e0\\u00b0\\u2014\\u00e0\\u00b0\\u00be \\u00e0\\u00b0\\u2020\\u00e0\\u00b0\\u00b2\\u00e0\\u00b0\\u00af\\u00e0\\u00b0\\u201a\\u00e0\\u00b0\\u00b2\\u00e0\\u00b1\\u2039 \\u00e0\\u00b0\\u00ae\\u00e0\\u00b1\\u0081\\u00e0\\u00b0\\u00b8\\u00e0\\u00b1\\u008d\\u00e0\\u00b0\\u00b2\\u00e0\\u00b0\\u00bf\\u00e0\\u00b0\\u201a\\u00e0\\u00b0\\u00b2\\u00e0\\u00b1\\u2021 \\u00e0\\u00b0\\u00a4\\u00e0\\u00b0\\u00b0\\u00e0\\u00b0\\u00b0\\u00e0\\u00b0\\u00be\\u00e0\\u00b0\\u00b2\\u00e0\\u00b1\\u0081\\u00e0\\u00b0\\u2014\\u00e0\\u00b0\\u00be \\u00e0\\u00b0\\u00aa\\u00e0\\u00b1\\u201a\\u00e0\\u00b0\\u0153\\u00e0\\u00b0\\u00be\\u00e0\\u00b0\\u00b0\\u00e0\\u00b1\\u0081\\u00e0\\u00b0\\u00b2\\u00e0\\u00b1\\u0081.. \\u00e0\\u00b0\\u2020 \\u00e0\\u00b0\\u2020\\u00e0\\u00b0\\u00b2\\u00e0\\u00b0\\u00af\\u00e0\\u00b0\\u201a \\u00e0\\u00b0\\u017d\\u00e0\\u00b0\\u2022\\u00e0\\u00b1\\u008d\\u00e0\\u00b0\\u2022\\u00e0\\u00b0\\u00a1 \\u00e0\\u00b0\\u2026\\u00e0\\u00b0\\u201a\\u00e0\\u00b0\\u0178\\u00e0\\u00b1\\u2021..?\",\n          \"\\u00e2\\u20ac\\u02dcLiterally a lacerated spleen\\u00e2\\u20ac\\u2122: Cox details scary internal injury; Thomas fined, returns to training\",\n          \"89 \\u00e0\\u00a4\\u00b8\\u00e0\\u00a4\\u00be\\u00e0\\u00a4\\u00b2 \\u00e0\\u00a4\\u2022\\u00e0\\u00a5\\u20ac \\u00e0\\u00a4\\u2030\\u00e0\\u00a4\\u00ae\\u00e0\\u00a5\\u008d\\u00e0\\u00a4\\u00b0 \\u00e0\\u00a4\\u00ae\\u00e0\\u00a5\\u2021\\u00e0\\u00a4\\u201a \\u00e0\\u00a4\\u2026\\u00e0\\u00a4\\u2022\\u00e0\\u00a5\\u008d\\u00e0\\u00a4\\u00b7\\u00e0\\u00a4\\u00af \\u00e0\\u00a4\\u2022\\u00e0\\u00a5\\u0081\\u00e0\\u00a4\\u00ae\\u00e0\\u00a4\\u00be\\u00e0\\u00a4\\u00b0 \\u00e0\\u00a4\\u00b5\\u00e0\\u00a4\\u00be\\u00e0\\u00a4\\u00b2\\u00e0\\u00a4\\u00be \\u00e0\\u00a4\\u0090\\u00e0\\u00a4\\u2022\\u00e0\\u00a5\\u008d\\u00e2\\u20ac\\u008d\\u00e0\\u00a4\\u00b6\\u00e0\\u00a4\\u00a8... \\u00e0\\u00a4\\u00b8\\u00e0\\u00a4\\u00ae\\u00e0\\u00a4\\u201a\\u00e0\\u00a4\\u00a6\\u00e0\\u00a4\\u00b0 \\u00e0\\u00a4\\u2022\\u00e0\\u00a5\\u20ac \\u00e0\\u00a4\\u00b2\\u00e0\\u00a4\\u00b9\\u00e0\\u00a4\\u00b0\\u00e0\\u00a5\\u2039\\u00e0\\u00a4\\u201a \\u00e0\\u00a4\\u00b8\\u00e0\\u00a5\\u2021 \\u00e0\\u00a4\\u2021\\u00e0\\u00a4\\u00b8 \\u00e0\\u00a4\\u00ac\\u00e0\\u00a5\\u0081\\u00e0\\u00a4\\u0153\\u00e0\\u00a5\\u0081\\u00e0\\u00a4\\u00b0\\u00e0\\u00a5\\u008d\\u00e0\\u00a4\\u2014 \\u00e0\\u00a4\\u2022\\u00e0\\u00a4\\u00be \\u00e0\\u00a4\\u2013\\u00e0\\u00a4\\u00bf\\u00e0\\u00a4\\u00b2\\u00e0\\u00a4\\u00b5\\u00e0\\u00a4\\u00be\\u00e0\\u00a4\\u00a1\\u00e0\\u00a4\\u00bc \\u00e0\\u00a4\\u00b9\\u00e0\\u00a4\\u00bf\\u00e0\\u00a4\\u00b2\\u00e0\\u00a4\\u00be \\u00e0\\u00a4\\u00a6\\u00e0\\u00a5\\u2021\\u00e0\\u00a4\\u2014\\u00e0\\u00a4\\u00be!\"\n        ],\n        \"semantic_type\": \"\",\n        \"description\": \"\"\n      }\n    },\n    {\n      \"column\": \"topic\",\n      \"properties\": {\n        \"dtype\": \"category\",\n        \"num_unique_values\": 9,\n        \"samples\": [\n          \"entertainment\",\n          \"sports\",\n          \"politics\"\n        ],\n        \"semantic_type\": \"\",\n        \"description\": \"\"\n      }\n    }\n  ]\n}"
            }
          },
          "metadata": {},
          "execution_count": 18
        }
      ]
    },
    {
      "cell_type": "code",
      "source": [
        "df = df.dropna()\n",
        "df = df.drop_duplicates()\n",
        "df.isnull().sum()"
      ],
      "metadata": {
        "execution": {
          "iopub.status.busy": "2024-04-04T22:37:31.968886Z",
          "iopub.execute_input": "2024-04-04T22:37:31.969290Z",
          "iopub.status.idle": "2024-04-04T22:37:31.996585Z",
          "shell.execute_reply.started": "2024-04-04T22:37:31.969260Z",
          "shell.execute_reply": "2024-04-04T22:37:31.995378Z"
        },
        "trusted": true,
        "id": "kce7MhK6yKmt"
      },
      "execution_count": null,
      "outputs": []
    },
    {
      "cell_type": "code",
      "source": [
        "topic=df['topic'].value_counts()\n",
        "topic"
      ],
      "metadata": {
        "execution": {
          "iopub.status.busy": "2024-04-04T22:37:36.118298Z",
          "iopub.execute_input": "2024-04-04T22:37:36.118739Z",
          "iopub.status.idle": "2024-04-04T22:37:36.129680Z",
          "shell.execute_reply.started": "2024-04-04T22:37:36.118707Z",
          "shell.execute_reply": "2024-04-04T22:37:36.128662Z"
        },
        "trusted": true,
        "colab": {
          "base_uri": "https://localhost:8080/"
        },
        "id": "tYoidcU9yKmt",
        "outputId": "5b95a343-178e-4dfa-e3bc-a71ff7c60ec0"
      },
      "execution_count": null,
      "outputs": [
        {
          "output_type": "execute_result",
          "data": {
            "text/plain": [
              "topic\n",
              "technology       1668\n",
              "business         1594\n",
              "unknown          1461\n",
              "sports           1293\n",
              "politics         1206\n",
              "entertainment    1171\n",
              "travel            655\n",
              "health            603\n",
              "fashion           288\n",
              "Name: count, dtype: int64"
            ]
          },
          "metadata": {},
          "execution_count": 20
        }
      ]
    },
    {
      "cell_type": "code",
      "source": [
        "plt.figure(figsize=(10, 6))\n",
        "plt.bar(topic.index, topic.values)\n",
        "plt.ylabel('Count')\n",
        "plt.tight_layout()\n",
        "plt.show()"
      ],
      "metadata": {
        "execution": {
          "iopub.status.busy": "2024-04-04T22:37:38.995891Z",
          "iopub.execute_input": "2024-04-04T22:37:38.996294Z",
          "iopub.status.idle": "2024-04-04T22:37:39.344665Z",
          "shell.execute_reply.started": "2024-04-04T22:37:38.996263Z",
          "shell.execute_reply": "2024-04-04T22:37:39.343368Z"
        },
        "trusted": true,
        "colab": {
          "base_uri": "https://localhost:8080/",
          "height": 607
        },
        "id": "d5Ym1qw7yKmt",
        "outputId": "7567cdde-9f45-40ae-c7ec-95b1ae6ad9aa"
      },
      "execution_count": null,
      "outputs": [
        {
          "output_type": "display_data",
          "data": {
            "text/plain": [
              "<Figure size 1000x600 with 1 Axes>"
            ],
            "image/png": "[encoded data removed]"
          },
          "metadata": {}
        }
      ]
    },
    {
      "cell_type": "markdown",
      "source": [
        "### Steps for preprocessing :\n",
        "\n",
        "1. Tokenization\n",
        "2. Lowercasing\n",
        "3. Removing Stopwords\n",
        "4. Removing Punctuation\n",
        "5. Handle contraction and #abbreviation\n",
        "6. Remove special characters\n",
        "7. Lemmatization\n",
        "8. Run NER to identify named entities (makes slow) x"
      ],
      "metadata": {
        "id": "1mO6hBiryKmt"
      }
    },
    {
      "cell_type": "code",
      "source": [
        "lemmatizer = WordNetLemmatizer()\n",
        "def tokenize_and_lemmatize(text):\n",
        "    tokens = word_tokenize(text)  # Tokenization\n",
        "    lemmatized_tokens = [lemmatizer.lemmatize(token) for token in tokens]  # Lemmatization\n",
        "    return ' '.join(lemmatized_tokens)\n",
        "\n",
        "df['title'] = df['title'].apply(tokenize_and_lemmatize)"
      ],
      "metadata": {
        "execution": {
          "iopub.status.busy": "2024-04-04T22:59:51.136791Z",
          "iopub.execute_input": "2024-04-04T22:59:51.137206Z",
          "iopub.status.idle": "2024-04-04T22:59:51.472131Z",
          "shell.execute_reply.started": "2024-04-04T22:59:51.137174Z",
          "shell.execute_reply": "2024-04-04T22:59:51.470081Z"
        },
        "trusted": true,
        "id": "JtxF9LbyyKmu"
      },
      "execution_count": null,
      "outputs": []
    },
    {
      "cell_type": "code",
      "source": [
        "from google.colab import drive\n",
        "drive.mount('/content/drive')"
      ],
      "metadata": {
        "id": "nTp90xIV0zNQ"
      },
      "execution_count": null,
      "outputs": []
    },
    {
      "cell_type": "code",
      "source": [
        "df['title'] = df['title'].str.lower()"
      ],
      "metadata": {
        "execution": {
          "iopub.status.busy": "2024-04-04T22:45:13.153359Z",
          "iopub.execute_input": "2024-04-04T22:45:13.153871Z",
          "iopub.status.idle": "2024-04-04T22:45:13.165487Z",
          "shell.execute_reply.started": "2024-04-04T22:45:13.153835Z",
          "shell.execute_reply": "2024-04-04T22:45:13.163978Z"
        },
        "trusted": true,
        "id": "pMvrD7a_yKmu"
      },
      "execution_count": null,
      "outputs": []
    },
    {
      "cell_type": "code",
      "source": [
        "custom_stopwords = ['the', 'a', 'of', 'and', 'to', 'in', 'is', 'it', 'is', 'am', 'are', 'was', 'were', 'an', 'in', \\\n",
        "                'at' , 'you', 'for', 'i', 'on', 'they', 'he', 'him', 'his', 'her', 'himself', 'it', 'they', 'them',\\\n",
        "                'this', 'that', 'these', 'those', 'be', 'by']\n",
        "\n",
        "def stopwords_removal(tt):\n",
        "    # Split -> Filter -> Join\n",
        "    if isinstance (tt,str):\n",
        "        words = tt.split()\n",
        "        filtered_words = [w for w in words if w not in custom_stopwords]\n",
        "        filtered_tweet = ' '.join(filtered_words)\n",
        "        return filtered_tweet\n",
        "    else:\n",
        "        return tt\n",
        "\n",
        "df['title'] = df['title'].apply(stopwords_removal)"
      ],
      "metadata": {
        "execution": {
          "iopub.status.busy": "2024-04-04T22:38:00.299222Z",
          "iopub.execute_input": "2024-04-04T22:38:00.300525Z",
          "iopub.status.idle": "2024-04-04T22:38:00.402234Z",
          "shell.execute_reply.started": "2024-04-04T22:38:00.300482Z",
          "shell.execute_reply": "2024-04-04T22:38:00.401194Z"
        },
        "trusted": true,
        "id": "xVeyUOW7yKmu"
      },
      "execution_count": null,
      "outputs": []
    },
    {
      "cell_type": "code",
      "source": [
        "def remove_punctuation(TT):\n",
        "    return TT.str.replace(r'[^\\w\\s]', '')\n",
        "\n",
        "df['title'] = remove_punctuation(df['title'])"
      ],
      "metadata": {
        "execution": {
          "iopub.status.busy": "2024-04-04T22:43:30.695119Z",
          "iopub.execute_input": "2024-04-04T22:43:30.695758Z",
          "iopub.status.idle": "2024-04-04T22:43:30.711210Z",
          "shell.execute_reply.started": "2024-04-04T22:43:30.695721Z",
          "shell.execute_reply": "2024-04-04T22:43:30.709753Z"
        },
        "trusted": true,
        "id": "ePyUDGxryKmu"
      },
      "execution_count": null,
      "outputs": []
    },
    {
      "cell_type": "code",
      "source": [
        "def fix_contractions(ttl:str) -> str:\n",
        "    return contractions.fix(ttl)\n",
        "\n",
        "df['title'] = df['title'].apply(lambda x: fix_contractions(x) if isinstance(x, str) else x)"
      ],
      "metadata": {
        "execution": {
          "iopub.status.busy": "2024-04-04T22:38:08.963465Z",
          "iopub.execute_input": "2024-04-04T22:38:08.964729Z",
          "iopub.status.idle": "2024-04-04T22:38:09.101339Z",
          "shell.execute_reply.started": "2024-04-04T22:38:08.964690Z",
          "shell.execute_reply": "2024-04-04T22:38:09.100068Z"
        },
        "trusted": true,
        "id": "DJco4pnDyKmu"
      },
      "execution_count": null,
      "outputs": []
    },
    {
      "cell_type": "code",
      "source": [
        "df['title'] = df['title'].str.replace(\"'\", '').str.replace('\"','') #removing atostrophe"
      ],
      "metadata": {
        "execution": {
          "iopub.status.busy": "2024-04-04T22:42:33.646094Z",
          "iopub.execute_input": "2024-04-04T22:42:33.646659Z",
          "iopub.status.idle": "2024-04-04T22:42:33.665802Z",
          "shell.execute_reply.started": "2024-04-04T22:42:33.646617Z",
          "shell.execute_reply": "2024-04-04T22:42:33.664144Z"
        },
        "trusted": true,
        "id": "W4wZZ--ryKmu"
      },
      "execution_count": null,
      "outputs": []
    },
    {
      "cell_type": "code",
      "source": [
        "def handle_specials(t: str) -> str:\n",
        "    ## Ord(character) will give you the integer value for that character. Since standard ASCII range is from\n",
        "    # 0 to 127, any thing after that will contribute to emojis, and weird characters like \"Å© ‚Å¶, üòÇ\"\n",
        "    #  This is Apple logo\n",
        "    t = ''.join([x for x in t if ord(x) < 128])\n",
        "    t = re.sub(r'http\\S+|www\\S+|https\\S+', '', t) # Remove Links\n",
        "    t = re.sub(\"@[A-Za-z0-9_]+\",\"\", t) # Remove mentions @Juggernaut\n",
        "    t = re.sub(\"#[A-Za-z0-9_]+\",\"\", t) # Remove hashtags #Necromancer\n",
        "\n",
        "    # We have tweets like -> FREEDOM\\nFREEDOM\\nFREEDOM \\n\\nBUSY BUSY BUSY\\n -> We need to remove \"\\n\"\n",
        "    # We also have to deal with the trailing dpulication problem here.\n",
        "    t = t.strip().replace('\\n', '') # Replace \\n with whitespace\n",
        "    t = re.sub(r'\\b(\\w+)( \\1\\b)+', r'\\1', t, flags=re.IGNORECASE) # Reduce any trailing words\n",
        "\n",
        "    # Only keep english letter(Cap and small) & numbers\n",
        "    # We also should not remove aphostrophe('), because we need them in handling contractions. (won't, can't)\n",
        "    # But we also notice that we have structure 'create chaos', 'massive and amazing', where the\n",
        "    # aphostrophe does not mean contractions so we need to remove them after contraction handling step.\n",
        "    t = re.sub(r\"[^a-zA-Z0-9'\\s]\", ' ', t)\n",
        "    t = re.sub(r'\\s+', ' ', t).strip() # Convert all the trailing whitespaces to one whitespace\n",
        "    return t\n",
        "\n",
        "df['title'] = df['title'].apply(handle_specials)"
      ],
      "metadata": {
        "execution": {
          "iopub.status.busy": "2024-04-04T22:42:37.881339Z",
          "iopub.execute_input": "2024-04-04T22:42:37.881783Z",
          "iopub.status.idle": "2024-04-04T22:42:38.388396Z",
          "shell.execute_reply.started": "2024-04-04T22:42:37.881752Z",
          "shell.execute_reply": "2024-04-04T22:42:38.387203Z"
        },
        "trusted": true,
        "id": "dS10YuyYyKmu",
        "colab": {
          "base_uri": "https://localhost:8080/",
          "height": 176
        },
        "outputId": "7b2c30fb-b16f-48d7-a7d6-07c3f4c6b370"
      },
      "execution_count": 1,
      "outputs": [
        {
          "output_type": "error",
          "ename": "NameError",
          "evalue": "name 'df' is not defined",
          "traceback": [
            "\u001b[0;31m---------------------------------------------------------------------------\u001b[0m",
            "\u001b[0;31mNameError\u001b[0m                                 Traceback (most recent call last)",
            "\u001b[0;32m<ipython-input-1-1eb193f86b25>\u001b[0m in \u001b[0;36m<cell line: 23>\u001b[0;34m()\u001b[0m\n\u001b[1;32m     21\u001b[0m     \u001b[0;32mreturn\u001b[0m \u001b[0mt\u001b[0m\u001b[0;34m\u001b[0m\u001b[0;34m\u001b[0m\u001b[0m\n\u001b[1;32m     22\u001b[0m \u001b[0;34m\u001b[0m\u001b[0m\n\u001b[0;32m---> 23\u001b[0;31m \u001b[0mdf\u001b[0m\u001b[0;34m[\u001b[0m\u001b[0;34m'title'\u001b[0m\u001b[0;34m]\u001b[0m \u001b[0;34m=\u001b[0m \u001b[0mdf\u001b[0m\u001b[0;34m[\u001b[0m\u001b[0;34m'title'\u001b[0m\u001b[0;34m]\u001b[0m\u001b[0;34m.\u001b[0m\u001b[0mapply\u001b[0m\u001b[0;34m(\u001b[0m\u001b[0mhandle_specials\u001b[0m\u001b[0;34m)\u001b[0m\u001b[0;34m\u001b[0m\u001b[0;34m\u001b[0m\u001b[0m\n\u001b[0m",
            "\u001b[0;31mNameError\u001b[0m: name 'df' is not defined"
          ]
        }
      ]
    },
    {
      "cell_type": "code",
      "source": [
        "df[:25]"
      ],
      "metadata": {
        "execution": {
          "iopub.status.busy": "2024-04-04T22:45:20.412069Z",
          "iopub.execute_input": "2024-04-04T22:45:20.412534Z",
          "iopub.status.idle": "2024-04-04T22:45:20.430127Z",
          "shell.execute_reply.started": "2024-04-04T22:45:20.412498Z",
          "shell.execute_reply": "2024-04-04T22:45:20.428690Z"
        },
        "trusted": true,
        "colab": {
          "base_uri": "https://localhost:8080/",
          "height": 833
        },
        "id": "cEsTei1OyKmu",
        "outputId": "9010d699-73f3-4b11-e7b3-e3580fae0304"
      },
      "execution_count": null,
      "outputs": [
        {
          "output_type": "execute_result",
          "data": {
            "text/plain": [
              "                                                                                                                                                                                                              title  \\\n",
              "0                                                                                                                                                           mitsubishi motor co otcmkts mmtof short interest update   \n",
              "1   juventus off hook bianconeri set have 15 point deduction overturned propel into serie top fourjuventus off hook bianconeri set have 15 point deduction overturned propel into serie top four goal com australia   \n",
              "2                                                                                                                                                               dodger ponder shortstop betts after paternity leave   \n",
              "3                                                                                                                                                          meta lay off tech team battering employee morale reuters   \n",
              "4                                                                                                                                                             fda clear extra covid booster some high risk american   \n",
              "5                                                                                                                                                            bicep curl drop set pump your gun maximize muscle gain   \n",
              "6                                                                                                                                                             mid level environmental engineer job boeing renton wa   \n",
              "7                                                                                                                                               lagos sue teenager making hoax call fire service ladun liadi s blog   \n",
              "8                                                                                                                                                                   abdullah hakeem short reminder istighfar tawbah   \n",
              "9                                                                                                                                                   de zerbi maintains midas touch brighton success story continues   \n",
              "10                                                                                                                                                                    zelensky writes modi seek humanitarian aid ld   \n",
              "11                                                                                                                       video french bakery le bec sucr brings touch paris popular american tourist city cnn video   \n",
              "12                                                                                                                                                             tamworth water security alliance call state minister   \n",
              "13                                                                                                                                                 4 year old search stuffed bear with recording late mom heartbeat   \n",
              "14                                                                                                                                                    geographic information system gi manager sustainable business   \n",
              "15                                                                                                                                                                       walmart nyse wmt lifted buy gordon haskett   \n",
              "16                                                                                                                                                 stellini vow support sanchez lloris criticises sad tottenham boo   \n",
              "17                                                                                                                                                  book club next chapter trailer preview club s italian adventure   \n",
              "18                                                                                                                                                                  ingrid minister calling all boofheads interview   \n",
              "19                                                                                                                                      artemis astronaut christina koch ca nt wait see first female footprint moon   \n",
              "20                                                                                                                                                                            ptsg work loch earn leisure park ptsg   \n",
              "21                                                                                                                                                           islander open 2023 nhl playoff with 2 1 loss hurricane   \n",
              "22                                                                                                                                                president s club dinner raise 83 500 scholarship canadore student   \n",
              "23                                                                                                                                                                            fact checking whale obesity portrayal   \n",
              "24                                                                                                                                                                u 787 5m settlement fox news defamation suit rthk   \n",
              "\n",
              "            topic  \n",
              "0        business  \n",
              "1          sports  \n",
              "2          sports  \n",
              "3      technology  \n",
              "4          health  \n",
              "5         unknown  \n",
              "6        business  \n",
              "7        politics  \n",
              "8         unknown  \n",
              "9          sports  \n",
              "10       politics  \n",
              "11         travel  \n",
              "12       politics  \n",
              "13         travel  \n",
              "14        unknown  \n",
              "15        unknown  \n",
              "16         sports  \n",
              "17         travel  \n",
              "18  entertainment  \n",
              "19        unknown  \n",
              "20         travel  \n",
              "21         sports  \n",
              "22        unknown  \n",
              "23       politics  \n",
              "24       politics  "
            ],
            "text/html": [
              "\n",
              "  <div id=\"df-e26fac48-5bef-4ea0-89a7-c80d12e3203e\" class=\"colab-df-container\">\n",
              "    <div>\n",
              "<style scoped>\n",
              "    .dataframe tbody tr th:only-of-type {\n",
              "        vertical-align: middle;\n",
              "    }\n",
              "\n",
              "    .dataframe tbody tr th {\n",
              "        vertical-align: top;\n",
              "    }\n",
              "\n",
              "    .dataframe thead th {\n",
              "        text-align: right;\n",
              "    }\n",
              "</style>\n",
              "<table border=\"1\" class=\"dataframe\">\n",
              "  <thead>\n",
              "    <tr style=\"text-align: right;\">\n",
              "      <th></th>\n",
              "      <th>title</th>\n",
              "      <th>topic</th>\n",
              "    </tr>\n",
              "  </thead>\n",
              "  <tbody>\n",
              "    <tr>\n",
              "      <th>0</th>\n",
              "      <td>mitsubishi motor co otcmkts mmtof short interest update</td>\n",
              "      <td>business</td>\n",
              "    </tr>\n",
              "    <tr>\n",
              "      <th>1</th>\n",
              "      <td>juventus off hook bianconeri set have 15 point deduction overturned propel into serie top fourjuventus off hook bianconeri set have 15 point deduction overturned propel into serie top four goal com australia</td>\n",
              "      <td>sports</td>\n",
              "    </tr>\n",
              "    <tr>\n",
              "      <th>2</th>\n",
              "      <td>dodger ponder shortstop betts after paternity leave</td>\n",
              "      <td>sports</td>\n",
              "    </tr>\n",
              "    <tr>\n",
              "      <th>3</th>\n",
              "      <td>meta lay off tech team battering employee morale reuters</td>\n",
              "      <td>technology</td>\n",
              "    </tr>\n",
              "    <tr>\n",
              "      <th>4</th>\n",
              "      <td>fda clear extra covid booster some high risk american</td>\n",
              "      <td>health</td>\n",
              "    </tr>\n",
              "    <tr>\n",
              "      <th>5</th>\n",
              "      <td>bicep curl drop set pump your gun maximize muscle gain</td>\n",
              "      <td>unknown</td>\n",
              "    </tr>\n",
              "    <tr>\n",
              "      <th>6</th>\n",
              "      <td>mid level environmental engineer job boeing renton wa</td>\n",
              "      <td>business</td>\n",
              "    </tr>\n",
              "    <tr>\n",
              "      <th>7</th>\n",
              "      <td>lagos sue teenager making hoax call fire service ladun liadi s blog</td>\n",
              "      <td>politics</td>\n",
              "    </tr>\n",
              "    <tr>\n",
              "      <th>8</th>\n",
              "      <td>abdullah hakeem short reminder istighfar tawbah</td>\n",
              "      <td>unknown</td>\n",
              "    </tr>\n",
              "    <tr>\n",
              "      <th>9</th>\n",
              "      <td>de zerbi maintains midas touch brighton success story continues</td>\n",
              "      <td>sports</td>\n",
              "    </tr>\n",
              "    <tr>\n",
              "      <th>10</th>\n",
              "      <td>zelensky writes modi seek humanitarian aid ld</td>\n",
              "      <td>politics</td>\n",
              "    </tr>\n",
              "    <tr>\n",
              "      <th>11</th>\n",
              "      <td>video french bakery le bec sucr brings touch paris popular american tourist city cnn video</td>\n",
              "      <td>travel</td>\n",
              "    </tr>\n",
              "    <tr>\n",
              "      <th>12</th>\n",
              "      <td>tamworth water security alliance call state minister</td>\n",
              "      <td>politics</td>\n",
              "    </tr>\n",
              "    <tr>\n",
              "      <th>13</th>\n",
              "      <td>4 year old search stuffed bear with recording late mom heartbeat</td>\n",
              "      <td>travel</td>\n",
              "    </tr>\n",
              "    <tr>\n",
              "      <th>14</th>\n",
              "      <td>geographic information system gi manager sustainable business</td>\n",
              "      <td>unknown</td>\n",
              "    </tr>\n",
              "    <tr>\n",
              "      <th>15</th>\n",
              "      <td>walmart nyse wmt lifted buy gordon haskett</td>\n",
              "      <td>unknown</td>\n",
              "    </tr>\n",
              "    <tr>\n",
              "      <th>16</th>\n",
              "      <td>stellini vow support sanchez lloris criticises sad tottenham boo</td>\n",
              "      <td>sports</td>\n",
              "    </tr>\n",
              "    <tr>\n",
              "      <th>17</th>\n",
              "      <td>book club next chapter trailer preview club s italian adventure</td>\n",
              "      <td>travel</td>\n",
              "    </tr>\n",
              "    <tr>\n",
              "      <th>18</th>\n",
              "      <td>ingrid minister calling all boofheads interview</td>\n",
              "      <td>entertainment</td>\n",
              "    </tr>\n",
              "    <tr>\n",
              "      <th>19</th>\n",
              "      <td>artemis astronaut christina koch ca nt wait see first female footprint moon</td>\n",
              "      <td>unknown</td>\n",
              "    </tr>\n",
              "    <tr>\n",
              "      <th>20</th>\n",
              "      <td>ptsg work loch earn leisure park ptsg</td>\n",
              "      <td>travel</td>\n",
              "    </tr>\n",
              "    <tr>\n",
              "      <th>21</th>\n",
              "      <td>islander open 2023 nhl playoff with 2 1 loss hurricane</td>\n",
              "      <td>sports</td>\n",
              "    </tr>\n",
              "    <tr>\n",
              "      <th>22</th>\n",
              "      <td>president s club dinner raise 83 500 scholarship canadore student</td>\n",
              "      <td>unknown</td>\n",
              "    </tr>\n",
              "    <tr>\n",
              "      <th>23</th>\n",
              "      <td>fact checking whale obesity portrayal</td>\n",
              "      <td>politics</td>\n",
              "    </tr>\n",
              "    <tr>\n",
              "      <th>24</th>\n",
              "      <td>u 787 5m settlement fox news defamation suit rthk</td>\n",
              "      <td>politics</td>\n",
              "    </tr>\n",
              "  </tbody>\n",
              "</table>\n",
              "</div>\n",
              "    <div class=\"colab-df-buttons\">\n",
              "\n",
              "  <div class=\"colab-df-container\">\n",
              "    <button class=\"colab-df-convert\" onclick=\"convertToInteractive('df-e26fac48-5bef-4ea0-89a7-c80d12e3203e')\"\n",
              "            title=\"Convert this dataframe to an interactive table.\"\n",
              "            style=\"display:none;\">\n",
              "\n",
              "  <svg xmlns=\"http://www.w3.org/2000/svg\" height=\"24px\" viewBox=\"0 -960 960 960\">\n",
              "    <path d=\"M120-120v-720h720v720H120Zm60-500h600v-160H180v160Zm220 220h160v-160H400v160Zm0 220h160v-160H400v160ZM180-400h160v-160H180v160Zm440 0h160v-160H620v160ZM180-180h160v-160H180v160Zm440 0h160v-160H620v160Z\"/>\n",
              "  </svg>\n",
              "    </button>\n",
              "\n",
              "  <style>\n",
              "    .colab-df-container {\n",
              "      display:flex;\n",
              "      gap: 12px;\n",
              "    }\n",
              "\n",
              "    .colab-df-convert {\n",
              "      background-color: #E8F0FE;\n",
              "      border: none;\n",
              "      border-radius: 50%;\n",
              "      cursor: pointer;\n",
              "      display: none;\n",
              "      fill: #1967D2;\n",
              "      height: 32px;\n",
              "      padding: 0 0 0 0;\n",
              "      width: 32px;\n",
              "    }\n",
              "\n",
              "    .colab-df-convert:hover {\n",
              "      background-color: #E2EBFA;\n",
              "      box-shadow: 0px 1px 2px rgba(60, 64, 67, 0.3), 0px 1px 3px 1px rgba(60, 64, 67, 0.15);\n",
              "      fill: #174EA6;\n",
              "    }\n",
              "\n",
              "    .colab-df-buttons div {\n",
              "      margin-bottom: 4px;\n",
              "    }\n",
              "\n",
              "    [theme=dark] .colab-df-convert {\n",
              "      background-color: #3B4455;\n",
              "      fill: #D2E3FC;\n",
              "    }\n",
              "\n",
              "    [theme=dark] .colab-df-convert:hover {\n",
              "      background-color: #434B5C;\n",
              "      box-shadow: 0px 1px 3px 1px rgba(0, 0, 0, 0.15);\n",
              "      filter: drop-shadow(0px 1px 2px rgba(0, 0, 0, 0.3));\n",
              "      fill: #FFFFFF;\n",
              "    }\n",
              "  </style>\n",
              "\n",
              "    <script>\n",
              "      const buttonEl =\n",
              "        document.querySelector('#df-e26fac48-5bef-4ea0-89a7-c80d12e3203e button.colab-df-convert');\n",
              "      buttonEl.style.display =\n",
              "        google.colab.kernel.accessAllowed ? 'block' : 'none';\n",
              "\n",
              "      async function convertToInteractive(key) {\n",
              "        const element = document.querySelector('#df-e26fac48-5bef-4ea0-89a7-c80d12e3203e');\n",
              "        const dataTable =\n",
              "          await google.colab.kernel.invokeFunction('convertToInteractive',\n",
              "                                                    [key], {});\n",
              "        if (!dataTable) return;\n",
              "\n",
              "        const docLinkHtml = 'Like what you see? Visit the ' +\n",
              "          '<a target=\"_blank\" href=https://colab.research.google.com/notebooks/data_table.ipynb>data table notebook</a>'\n",
              "          + ' to learn more about interactive tables.';\n",
              "        element.innerHTML = '';\n",
              "        dataTable['output_type'] = 'display_data';\n",
              "        await google.colab.output.renderOutput(dataTable, element);\n",
              "        const docLink = document.createElement('div');\n",
              "        docLink.innerHTML = docLinkHtml;\n",
              "        element.appendChild(docLink);\n",
              "      }\n",
              "    </script>\n",
              "  </div>\n",
              "\n",
              "\n",
              "<div id=\"df-1135b5c0-41a2-4616-a79b-e6883f3c339f\">\n",
              "  <button class=\"colab-df-quickchart\" onclick=\"quickchart('df-1135b5c0-41a2-4616-a79b-e6883f3c339f')\"\n",
              "            title=\"Suggest charts\"\n",
              "            style=\"display:none;\">\n",
              "\n",
              "<svg xmlns=\"http://www.w3.org/2000/svg\" height=\"24px\"viewBox=\"0 0 24 24\"\n",
              "     width=\"24px\">\n",
              "    <g>\n",
              "        <path d=\"M19 3H5c-1.1 0-2 .9-2 2v14c0 1.1.9 2 2 2h14c1.1 0 2-.9 2-2V5c0-1.1-.9-2-2-2zM9 17H7v-7h2v7zm4 0h-2V7h2v10zm4 0h-2v-4h2v4z\"/>\n",
              "    </g>\n",
              "</svg>\n",
              "  </button>\n",
              "\n",
              "<style>\n",
              "  .colab-df-quickchart {\n",
              "      --bg-color: #E8F0FE;\n",
              "      --fill-color: #1967D2;\n",
              "      --hover-bg-color: #E2EBFA;\n",
              "      --hover-fill-color: #174EA6;\n",
              "      --disabled-fill-color: #AAA;\n",
              "      --disabled-bg-color: #DDD;\n",
              "  }\n",
              "\n",
              "  [theme=dark] .colab-df-quickchart {\n",
              "      --bg-color: #3B4455;\n",
              "      --fill-color: #D2E3FC;\n",
              "      --hover-bg-color: #434B5C;\n",
              "      --hover-fill-color: #FFFFFF;\n",
              "      --disabled-bg-color: #3B4455;\n",
              "      --disabled-fill-color: #666;\n",
              "  }\n",
              "\n",
              "  .colab-df-quickchart {\n",
              "    background-color: var(--bg-color);\n",
              "    border: none;\n",
              "    border-radius: 50%;\n",
              "    cursor: pointer;\n",
              "    display: none;\n",
              "    fill: var(--fill-color);\n",
              "    height: 32px;\n",
              "    padding: 0;\n",
              "    width: 32px;\n",
              "  }\n",
              "\n",
              "  .colab-df-quickchart:hover {\n",
              "    background-color: var(--hover-bg-color);\n",
              "    box-shadow: 0 1px 2px rgba(60, 64, 67, 0.3), 0 1px 3px 1px rgba(60, 64, 67, 0.15);\n",
              "    fill: var(--button-hover-fill-color);\n",
              "  }\n",
              "\n",
              "  .colab-df-quickchart-complete:disabled,\n",
              "  .colab-df-quickchart-complete:disabled:hover {\n",
              "    background-color: var(--disabled-bg-color);\n",
              "    fill: var(--disabled-fill-color);\n",
              "    box-shadow: none;\n",
              "  }\n",
              "\n",
              "  .colab-df-spinner {\n",
              "    border: 2px solid var(--fill-color);\n",
              "    border-color: transparent;\n",
              "    border-bottom-color: var(--fill-color);\n",
              "    animation:\n",
              "      spin 1s steps(1) infinite;\n",
              "  }\n",
              "\n",
              "  @keyframes spin {\n",
              "    0% {\n",
              "      border-color: transparent;\n",
              "      border-bottom-color: var(--fill-color);\n",
              "      border-left-color: var(--fill-color);\n",
              "    }\n",
              "    20% {\n",
              "      border-color: transparent;\n",
              "      border-left-color: var(--fill-color);\n",
              "      border-top-color: var(--fill-color);\n",
              "    }\n",
              "    30% {\n",
              "      border-color: transparent;\n",
              "      border-left-color: var(--fill-color);\n",
              "      border-top-color: var(--fill-color);\n",
              "      border-right-color: var(--fill-color);\n",
              "    }\n",
              "    40% {\n",
              "      border-color: transparent;\n",
              "      border-right-color: var(--fill-color);\n",
              "      border-top-color: var(--fill-color);\n",
              "    }\n",
              "    60% {\n",
              "      border-color: transparent;\n",
              "      border-right-color: var(--fill-color);\n",
              "    }\n",
              "    80% {\n",
              "      border-color: transparent;\n",
              "      border-right-color: var(--fill-color);\n",
              "      border-bottom-color: var(--fill-color);\n",
              "    }\n",
              "    90% {\n",
              "      border-color: transparent;\n",
              "      border-bottom-color: var(--fill-color);\n",
              "    }\n",
              "  }\n",
              "</style>\n",
              "\n",
              "  <script>\n",
              "    async function quickchart(key) {\n",
              "      const quickchartButtonEl =\n",
              "        document.querySelector('#' + key + ' button');\n",
              "      quickchartButtonEl.disabled = true;  // To prevent multiple clicks.\n",
              "      quickchartButtonEl.classList.add('colab-df-spinner');\n",
              "      try {\n",
              "        const charts = await google.colab.kernel.invokeFunction(\n",
              "            'suggestCharts', [key], {});\n",
              "      } catch (error) {\n",
              "        console.error('Error during call to suggestCharts:', error);\n",
              "      }\n",
              "      quickchartButtonEl.classList.remove('colab-df-spinner');\n",
              "      quickchartButtonEl.classList.add('colab-df-quickchart-complete');\n",
              "    }\n",
              "    (() => {\n",
              "      let quickchartButtonEl =\n",
              "        document.querySelector('#df-1135b5c0-41a2-4616-a79b-e6883f3c339f button');\n",
              "      quickchartButtonEl.style.display =\n",
              "        google.colab.kernel.accessAllowed ? 'block' : 'none';\n",
              "    })();\n",
              "  </script>\n",
              "</div>\n",
              "\n",
              "    </div>\n",
              "  </div>\n"
            ],
            "application/vnd.google.colaboratory.intrinsic+json": {
              "type": "dataframe",
              "summary": "{\n  \"name\": \"df[:25]\",\n  \"rows\": 25,\n  \"fields\": [\n    {\n      \"column\": \"title\",\n      \"properties\": {\n        \"dtype\": \"string\",\n        \"num_unique_values\": 25,\n        \"samples\": [\n          \"abdullah hakeem short reminder istighfar tawbah\",\n          \"stellini vow support sanchez lloris criticises sad tottenham boo\",\n          \"mitsubishi motor co otcmkts mmtof short interest update\"\n        ],\n        \"semantic_type\": \"\",\n        \"description\": \"\"\n      }\n    },\n    {\n      \"column\": \"topic\",\n      \"properties\": {\n        \"dtype\": \"category\",\n        \"num_unique_values\": 8,\n        \"samples\": [\n          \"sports\",\n          \"politics\",\n          \"business\"\n        ],\n        \"semantic_type\": \"\",\n        \"description\": \"\"\n      }\n    }\n  ]\n}"
            }
          },
          "metadata": {},
          "execution_count": 34
        }
      ]
    },
    {
      "cell_type": "markdown",
      "source": [
        "### Label Encoding for the 'topic' column"
      ],
      "metadata": {
        "id": "7rlzQUptyKmv"
      }
    },
    {
      "cell_type": "code",
      "source": [
        "label_encoder=LabelEncoder()\n",
        "df['topic_encoded'] = label_encoder.fit_transform(df['topic'])\n",
        "df['topic_encoded'].unique()"
      ],
      "metadata": {
        "execution": {
          "iopub.status.busy": "2024-04-04T20:11:02.608920Z",
          "iopub.execute_input": "2024-04-04T20:11:02.609414Z",
          "iopub.status.idle": "2024-04-04T20:11:02.624670Z",
          "shell.execute_reply.started": "2024-04-04T20:11:02.609377Z",
          "shell.execute_reply": "2024-04-04T20:11:02.623143Z"
        },
        "trusted": true,
        "colab": {
          "base_uri": "https://localhost:8080/"
        },
        "id": "u0fEkOVeyKmv",
        "outputId": "98396c83-cbf0-4538-9df9-255149ee9bdd"
      },
      "execution_count": null,
      "outputs": [
        {
          "output_type": "execute_result",
          "data": {
            "text/plain": [
              "array([0, 5, 6, 3, 8, 4, 7, 1, 2])"
            ]
          },
          "metadata": {},
          "execution_count": 36
        }
      ]
    },
    {
      "cell_type": "code",
      "source": [
        "mapping = {topic.index[i]: topic.iloc[i] for i in range(len(topic))}\n",
        "print(\"Encoded Topic Mapping:\")\n",
        "for topic, encoded_value in mapping.items():\n",
        "    print(f\"Topic: {topic} : {encoded_value}\")\n"
      ],
      "metadata": {
        "execution": {
          "iopub.status.busy": "2024-04-04T20:11:04.709560Z",
          "iopub.execute_input": "2024-04-04T20:11:04.710032Z",
          "iopub.status.idle": "2024-04-04T20:11:04.716935Z",
          "shell.execute_reply.started": "2024-04-04T20:11:04.710001Z",
          "shell.execute_reply": "2024-04-04T20:11:04.715573Z"
        },
        "trusted": true,
        "colab": {
          "base_uri": "https://localhost:8080/"
        },
        "id": "GwrDbwD_yKmv",
        "outputId": "ad9a33a8-dc3b-4db2-c7d6-39caa178c1c9"
      },
      "execution_count": null,
      "outputs": [
        {
          "output_type": "stream",
          "name": "stdout",
          "text": [
            "Encoded Topic Mapping:\n",
            "Topic: technology : 1668\n",
            "Topic: business : 1594\n",
            "Topic: unknown : 1461\n",
            "Topic: sports : 1293\n",
            "Topic: politics : 1206\n",
            "Topic: entertainment : 1171\n",
            "Topic: travel : 655\n",
            "Topic: health : 603\n",
            "Topic: fashion : 288\n"
          ]
        }
      ]
    },
    {
      "cell_type": "code",
      "source": [
        "# Load pre-trained GloVe word embeddings\n",
        "word_vectors = dict()\n",
        "def add_to_dict(d, filename):\n",
        "  with open(filename, 'r') as f:\n",
        "    for line in f.readlines():\n",
        "      line = line.split(' ')\n",
        "\n",
        "      try:\n",
        "        d[line[0]] = np.array(line[1:], dtype=float)\n",
        "      except:\n",
        "        continue\n",
        "add_to_dict(word_vectors, '/content/glove.6B.50d.txt')  #Glove pre-trained corpus model to represent the tweets\n",
        "word_vectors"
      ],
      "metadata": {
        "id": "AXi7MbIZyKmv"
      },
      "execution_count": null,
      "outputs": []
    },
    {
      "cell_type": "code",
      "source": [
        "# Prepare data\n",
        "def txt_to_wectors(message, word_dict=words):\n",
        "  processed_list_of_tokens = tokenize_and_lemmatize(message)\n",
        "\n",
        "  vectors = []\n",
        "\n",
        "  for token in processed_list_of_tokens:\n",
        "    if token not in word_dict:\n",
        "      continue\n",
        "\n",
        "    token_vector = word_dict[token]\n",
        "    vectors.append(token_vector)\n",
        "\n",
        "  return np.array(vectors, dtype=float)"
      ],
      "metadata": {
        "id": "lDi5uQLB1m-n"
      },
      "execution_count": null,
      "outputs": []
    },
    {
      "cell_type": "code",
      "source": [
        "train_df = df.sample(frac=1, random_state=1)\n",
        "train_df.reset_index(drop=True, inplace=True)\n",
        "\n",
        "split_index_1 = int(len(train_df) * 0.7)\n",
        "split_index_2 = int(len(train_df) * 0.85)\n",
        "\n",
        "train_df, val_df, test_df = train_df[:split_index_1], train_df[split_index_1:split_index_2], train_df[split_index_2:]\n",
        "\n",
        "len(train_df), len(val_df), len(test_df)"
      ],
      "metadata": {
        "colab": {
          "base_uri": "https://localhost:8080/"
        },
        "id": "y36i5NCe1p_1",
        "outputId": "9186935b-8cbf-4dc1-f5e5-978dbd7e293f"
      },
      "execution_count": null,
      "outputs": [
        {
          "output_type": "execute_result",
          "data": {
            "text/plain": [
              "(6957, 1491, 1491)"
            ]
          },
          "metadata": {},
          "execution_count": 55
        }
      ]
    },
    {
      "cell_type": "code",
      "source": [
        "def df_to_X_y(dff):\n",
        "  y = dff['topic_encoded'].to_numpy().astype(int)\n",
        "\n",
        "  all_word_vector_sequences = []\n",
        "\n",
        "  for message in dff['title']:\n",
        "    message_as_vector_seq = message_to_word_vectors(str(message))\n",
        "\n",
        "    if message_as_vector_seq.shape[0] == 0:\n",
        "      message_as_vector_seq = np.zeros(shape=(1, 50))\n",
        "\n",
        "    all_word_vector_sequences.append(message_as_vector_seq)\n",
        "\n",
        "  return all_word_vector_sequences, y"
      ],
      "metadata": {
        "id": "Sn3R8p745vL5"
      },
      "execution_count": null,
      "outputs": []
    },
    {
      "cell_type": "code",
      "source": [
        "X_train, y_train = df_to_X_y(train_df)\n",
        "\n",
        "print(len(X_train), len(X_train[181]))"
      ],
      "metadata": {
        "colab": {
          "base_uri": "https://localhost:8080/"
        },
        "id": "e3Hgh1LU56p5",
        "outputId": "b8271fb6-187b-4597-8152-2b10b7e9b85c"
      },
      "execution_count": null,
      "outputs": [
        {
          "output_type": "stream",
          "name": "stdout",
          "text": [
            "6957 28\n"
          ]
        }
      ]
    },
    {
      "cell_type": "code",
      "source": [
        "print(y_train[120])"
      ],
      "metadata": {
        "colab": {
          "base_uri": "https://localhost:8080/"
        },
        "id": "6LnqvWqC64W1",
        "outputId": "43914eb6-252f-489d-fab0-ea7a7efdbeb1"
      },
      "execution_count": null,
      "outputs": [
        {
          "output_type": "stream",
          "name": "stdout",
          "text": [
            "5\n"
          ]
        }
      ]
    },
    {
      "cell_type": "code",
      "source": [
        "sequence_lengths = []\n",
        "\n",
        "for i in range(len(X_train)):\n",
        "  sequence_lengths.append(len(X_train[i]))\n",
        "\n",
        "import matplotlib.pyplot as plt\n",
        "\n",
        "plt.hist(sequence_lengths)"
      ],
      "metadata": {
        "colab": {
          "base_uri": "https://localhost:8080/",
          "height": 517
        },
        "id": "0BhEvJS-7LLz",
        "outputId": "f7cd70ba-1764-4029-e9d7-6f320e646efd"
      },
      "execution_count": null,
      "outputs": [
        {
          "output_type": "execute_result",
          "data": {
            "text/plain": [
              "(array([2.280e+02, 1.381e+03, 3.181e+03, 1.560e+03, 4.480e+02, 9.800e+01,\n",
              "        3.400e+01, 1.300e+01, 1.100e+01, 3.000e+00]),\n",
              " array([  1. ,  20.5,  40. ,  59.5,  79. ,  98.5, 118. , 137.5, 157. ,\n",
              "        176.5, 196. ]),\n",
              " <BarContainer object of 10 artists>)"
            ]
          },
          "metadata": {},
          "execution_count": 71
        },
        {
          "output_type": "display_data",
          "data": {
            "text/plain": [
              "<Figure size 640x480 with 1 Axes>"
            ],
            "image/png": "[encoded data removed]"
          },
          "metadata": {}
        }
      ]
    },
    {
      "cell_type": "code",
      "source": [
        "pd.Series(sequence_lengths).describe()"
      ],
      "metadata": {
        "colab": {
          "base_uri": "https://localhost:8080/"
        },
        "id": "VahH1Kgg7QV6",
        "outputId": "f13ac11e-9988-485a-fcd5-5cc4d8df4a51"
      },
      "execution_count": null,
      "outputs": [
        {
          "output_type": "execute_result",
          "data": {
            "text/plain": [
              "count    6957.000000\n",
              "mean       52.854248\n",
              "std        19.886930\n",
              "min         1.000000\n",
              "25%        41.000000\n",
              "50%        51.000000\n",
              "75%        63.000000\n",
              "max       196.000000\n",
              "dtype: float64"
            ]
          },
          "metadata": {},
          "execution_count": 72
        }
      ]
    },
    {
      "cell_type": "code",
      "source": [
        "from copy import deepcopy\n",
        "\n",
        "def pad_X(X, desired_sequence_length=200):\n",
        "  X_copy = deepcopy(X)\n",
        "\n",
        "  for i, x in enumerate(X):\n",
        "    x_seq_len = x.shape[0]\n",
        "    sequence_length_difference = desired_sequence_length - x_seq_len\n",
        "\n",
        "    pad = np.zeros(shape=(sequence_length_difference, 50))\n",
        "\n",
        "    X_copy[i] = np.concatenate([x, pad])\n",
        "\n",
        "  return np.array(X_copy).astype(float)"
      ],
      "metadata": {
        "id": "p-LsoQyZ7SoF"
      },
      "execution_count": null,
      "outputs": []
    },
    {
      "cell_type": "code",
      "source": [
        "X_train = pad_X(X_train)\n",
        "\n",
        "X_train.shape"
      ],
      "metadata": {
        "colab": {
          "base_uri": "https://localhost:8080/"
        },
        "id": "FUNu41i-7hG9",
        "outputId": "b157376b-dcce-4a36-b772-450aeb3a111c"
      },
      "execution_count": null,
      "outputs": [
        {
          "output_type": "execute_result",
          "data": {
            "text/plain": [
              "(6957, 200, 50)"
            ]
          },
          "metadata": {},
          "execution_count": 74
        }
      ]
    },
    {
      "cell_type": "markdown",
      "source": [
        "####\n",
        "X_train has 6957 samples.\n",
        "Each sample has been padded (or truncated) to a length of 200.\n",
        "Each sample has 50 features."
      ],
      "metadata": {
        "id": "oeB--zW895gr"
      }
    },
    {
      "cell_type": "code",
      "source": [
        "X_val, y_val = df_to_X_y(val_df)\n",
        "X_val = pad_X(X_val)\n",
        "\n",
        "X_val.shape, y_val.shape"
      ],
      "metadata": {
        "colab": {
          "base_uri": "https://localhost:8080/"
        },
        "id": "YlzNiGwp7k17",
        "outputId": "fd8351d4-3bc2-47bb-82e0-10dc16e900c8"
      },
      "execution_count": null,
      "outputs": [
        {
          "output_type": "execute_result",
          "data": {
            "text/plain": [
              "((1491, 200, 50), (1491,))"
            ]
          },
          "metadata": {},
          "execution_count": 75
        }
      ]
    },
    {
      "cell_type": "code",
      "source": [
        "X_test, y_test = df_to_X_y(test_df)\n",
        "X_test = pad_X(X_test)\n",
        "\n",
        "X_test.shape, y_test.shape"
      ],
      "metadata": {
        "colab": {
          "base_uri": "https://localhost:8080/"
        },
        "id": "g_35lklW7pJo",
        "outputId": "13628ae8-af04-424d-d986-062f2c444fc1"
      },
      "execution_count": null,
      "outputs": [
        {
          "output_type": "execute_result",
          "data": {
            "text/plain": [
              "((1491, 200, 50), (1491,))"
            ]
          },
          "metadata": {},
          "execution_count": 76
        }
      ]
    },
    {
      "cell_type": "code",
      "source": [
        "if X_train.ndim > 2:\n",
        "    X_train = X_train.reshape(X_train.shape[0], -1)\n",
        "\n",
        "# Standardize the features if needed\n",
        "scaler = StandardScaler()\n",
        "X_train_scaled = scaler.fit_transform(X_train)"
      ],
      "metadata": {
        "id": "U4RfOV0o9AgK"
      },
      "execution_count": null,
      "outputs": []
    },
    {
      "cell_type": "code",
      "source": [
        "X_test = X_test.reshape(X_test.shape[0], -1)"
      ],
      "metadata": {
        "id": "A4eYlZ7fBInq"
      },
      "execution_count": null,
      "outputs": []
    },
    {
      "cell_type": "code",
      "source": [
        "# Train SVM classifier\n",
        "svm_classifier = SVC(kernel='poly')\n",
        "svm_classifier.fit(X_train_scaled, y_train)"
      ],
      "metadata": {
        "colab": {
          "base_uri": "https://localhost:8080/",
          "height": 75
        },
        "id": "4KBaYs_e1tty",
        "outputId": "7f520e99-ae31-43dd-e736-143a5ba9a174"
      },
      "execution_count": null,
      "outputs": [
        {
          "output_type": "execute_result",
          "data": {
            "text/plain": [
              "SVC(kernel='poly')"
            ],
            "text/html": [
              "<style>#sk-container-id-1 {color: black;background-color: white;}#sk-container-id-1 pre{padding: 0;}#sk-container-id-1 div.sk-toggleable {background-color: white;}#sk-container-id-1 label.sk-toggleable__label {cursor: pointer;display: block;width: 100%;margin-bottom: 0;padding: 0.3em;box-sizing: border-box;text-align: center;}#sk-container-id-1 label.sk-toggleable__label-arrow:before {content: \"▸\";float: left;margin-right: 0.25em;color: #696969;}#sk-container-id-1 label.sk-toggleable__label-arrow:hover:before {color: black;}#sk-container-id-1 div.sk-estimator:hover label.sk-toggleable__label-arrow:before {color: black;}#sk-container-id-1 div.sk-toggleable__content {max-height: 0;max-width: 0;overflow: hidden;text-align: left;background-color: #f0f8ff;}#sk-container-id-1 div.sk-toggleable__content pre {margin: 0.2em;color: black;border-radius: 0.25em;background-color: #f0f8ff;}#sk-container-id-1 input.sk-toggleable__control:checked~div.sk-toggleable__content {max-height: 200px;max-width: 100%;overflow: auto;}#sk-container-id-1 input.sk-toggleable__control:checked~label.sk-toggleable__label-arrow:before {content: \"▾\";}#sk-container-id-1 div.sk-estimator input.sk-toggleable__control:checked~label.sk-toggleable__label {background-color: #d4ebff;}#sk-container-id-1 div.sk-label input.sk-toggleable__control:checked~label.sk-toggleable__label {background-color: #d4ebff;}#sk-container-id-1 input.sk-hidden--visually {border: 0;clip: rect(1px 1px 1px 1px);clip: rect(1px, 1px, 1px, 1px);height: 1px;margin: -1px;overflow: hidden;padding: 0;position: absolute;width: 1px;}#sk-container-id-1 div.sk-estimator {font-family: monospace;background-color: #f0f8ff;border: 1px dotted black;border-radius: 0.25em;box-sizing: border-box;margin-bottom: 0.5em;}#sk-container-id-1 div.sk-estimator:hover {background-color: #d4ebff;}#sk-container-id-1 div.sk-parallel-item::after {content: \"\";width: 100%;border-bottom: 1px solid gray;flex-grow: 1;}#sk-container-id-1 div.sk-label:hover label.sk-toggleable__label {background-color: #d4ebff;}#sk-container-id-1 div.sk-serial::before {content: \"\";position: absolute;border-left: 1px solid gray;box-sizing: border-box;top: 0;bottom: 0;left: 50%;z-index: 0;}#sk-container-id-1 div.sk-serial {display: flex;flex-direction: column;align-items: center;background-color: white;padding-right: 0.2em;padding-left: 0.2em;position: relative;}#sk-container-id-1 div.sk-item {position: relative;z-index: 1;}#sk-container-id-1 div.sk-parallel {display: flex;align-items: stretch;justify-content: center;background-color: white;position: relative;}#sk-container-id-1 div.sk-item::before, #sk-container-id-1 div.sk-parallel-item::before {content: \"\";position: absolute;border-left: 1px solid gray;box-sizing: border-box;top: 0;bottom: 0;left: 50%;z-index: -1;}#sk-container-id-1 div.sk-parallel-item {display: flex;flex-direction: column;z-index: 1;position: relative;background-color: white;}#sk-container-id-1 div.sk-parallel-item:first-child::after {align-self: flex-end;width: 50%;}#sk-container-id-1 div.sk-parallel-item:last-child::after {align-self: flex-start;width: 50%;}#sk-container-id-1 div.sk-parallel-item:only-child::after {width: 0;}#sk-container-id-1 div.sk-dashed-wrapped {border: 1px dashed gray;margin: 0 0.4em 0.5em 0.4em;box-sizing: border-box;padding-bottom: 0.4em;background-color: white;}#sk-container-id-1 div.sk-label label {font-family: monospace;font-weight: bold;display: inline-block;line-height: 1.2em;}#sk-container-id-1 div.sk-label-container {text-align: center;}#sk-container-id-1 div.sk-container {/* jupyter's `normalize.less` sets `[hidden] { display: none; }` but bootstrap.min.css set `[hidden] { display: none !important; }` so we also need the `!important` here to be able to override the default hidden behavior on the sphinx rendered scikit-learn.org. See: https://github.com/scikit-learn/scikit-learn/issues/21755 */display: inline-block !important;position: relative;}#sk-container-id-1 div.sk-text-repr-fallback {display: none;}</style><div id=\"sk-container-id-1\" class=\"sk-top-container\"><div class=\"sk-text-repr-fallback\"><pre>SVC(kernel=&#x27;poly&#x27;)</pre><b>In a Jupyter environment, please rerun this cell to show the HTML representation or trust the notebook. <br />On GitHub, the HTML representation is unable to render, please try loading this page with nbviewer.org.</b></div><div class=\"sk-container\" hidden><div class=\"sk-item\"><div class=\"sk-estimator sk-toggleable\"><input class=\"sk-toggleable__control sk-hidden--visually\" id=\"sk-estimator-id-1\" type=\"checkbox\" checked><label for=\"sk-estimator-id-1\" class=\"sk-toggleable__label sk-toggleable__label-arrow\">SVC</label><div class=\"sk-toggleable__content\"><pre>SVC(kernel=&#x27;poly&#x27;)</pre></div></div></div></div></div>"
            ]
          },
          "metadata": {},
          "execution_count": 86
        }
      ]
    },
    {
      "cell_type": "code",
      "source": [
        "# Predictions\n",
        "y_pred = svm_classifier.predict(X_test)"
      ],
      "metadata": {
        "id": "SmxdRkBs1wq6"
      },
      "execution_count": null,
      "outputs": []
    },
    {
      "cell_type": "code",
      "source": [
        "# Evaluate accuracy\n",
        "accuracy = accuracy_score(y_test, y_pred)\n",
        "print(\"Accuracy:\", accuracy)"
      ],
      "metadata": {
        "colab": {
          "base_uri": "https://localhost:8080/"
        },
        "id": "vCk03cEu1zAU",
        "outputId": "e4efd442-a1b3-4111-c6ec-8b8d7eae3b21"
      },
      "execution_count": null,
      "outputs": [
        {
          "output_type": "stream",
          "name": "stdout",
          "text": [
            "Accuracy: 0.17639168343393696\n"
          ]
        }
      ]
    }
  ]
}